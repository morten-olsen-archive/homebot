{
 "cells": [
  {
   "cell_type": "code",
   "execution_count": null,
   "metadata": {},
   "outputs": [],
   "source": [
    "import rasa\n",
    "from helper import *\n",
    "setup()\n",
    "\n",
    "model_path = rasa.train(domain, config, [training_files], output)\n",
    "print(model_path)\n",
    "\n",
    "agent = Agent.load(model_path)"
   ]
  },
  {
   "cell_type": "code",
   "execution_count": 5,
   "metadata": {},
   "outputs": [
    {
     "data": {
      "text/plain": [
       "{'intent': {'name': 'mood_great', 'confidence': 0.3915129005908966},\n",
       " 'entities': [],\n",
       " 'intent_ranking': [{'name': 'mood_great', 'confidence': 0.3915129005908966},\n",
       "  {'name': 'mood_unhappy', 'confidence': 0.3423548638820648},\n",
       "  {'name': 'deny', 'confidence': 0.12147612124681473},\n",
       "  {'name': 'goodbye', 'confidence': 0.0485796183347702},\n",
       "  {'name': 'bot_challenge', 'confidence': 0.03750526160001755},\n",
       "  {'name': 'affirm', 'confidence': 0.03412111476063728},\n",
       "  {'name': 'greet', 'confidence': 0.02445005439221859}],\n",
       " 'text': \"I'm not happy\"}"
      ]
     },
     "execution_count": 5,
     "metadata": {},
     "output_type": "execute_result"
    }
   ],
   "source": [
    "await agent.parse_message_using_nlu_interpreter(\"I'm not happy\")"
   ]
  },
  {
   "cell_type": "code",
   "execution_count": 9,
   "metadata": {},
   "outputs": [
    {
     "data": {
      "text/plain": [
       "[{'recipient_id': 'default', 'text': 'Great, carry on!'}]"
      ]
     },
     "execution_count": 9,
     "metadata": {},
     "output_type": "execute_result"
    }
   ],
   "source": [
    "await agent.handle_text(\"im happy\")"
   ]
  },
  {
   "cell_type": "code",
   "execution_count": null,
   "metadata": {},
   "outputs": [],
   "source": []
  }
 ],
 "metadata": {
  "kernelspec": {
   "display_name": "Python 3",
   "language": "python",
   "name": "python3"
  },
  "language_info": {
   "codemirror_mode": {
    "name": "ipython",
    "version": 3
   },
   "file_extension": ".py",
   "mimetype": "text/x-python",
   "name": "python",
   "nbconvert_exporter": "python",
   "pygments_lexer": "ipython3",
   "version": "3.6.9"
  }
 },
 "nbformat": 4,
 "nbformat_minor": 4
}
